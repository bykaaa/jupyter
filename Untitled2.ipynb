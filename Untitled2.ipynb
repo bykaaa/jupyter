{
 "cells": [
  {
   "cell_type": "code",
   "execution_count": 45,
   "metadata": {},
   "outputs": [],
   "source": [
    "import shutil\n",
    "import os"
   ]
  },
  {
   "cell_type": "code",
   "execution_count": 46,
   "metadata": {},
   "outputs": [],
   "source": [
    "# Каталог с набором данных\n",
    "data_dir = '/home/byka/Загрузки/dataset/train'\n",
    "# Каталог с данными для обучения\n",
    "train_dir = 'train'\n",
    "# Каталог с данными для проверки\n",
    "val_dir = 'val'\n",
    "# Каталог с данными для тестирования\n",
    "test_dir = 'test'\n",
    "# Часть набора данных для тестирования\n",
    "test_data_portion = 0.2\n",
    "# Часть набора данных для проверки\n",
    "val_data_portion = 0.2\n",
    "# Количество элементов данных в одном классе\n",
    "nb_images = 11"
   ]
  },
  {
   "cell_type": "code",
   "execution_count": 47,
   "metadata": {},
   "outputs": [],
   "source": [
    "def create_directory(dir_name):\n",
    "    if os.path.exists(dir_name):\n",
    "        shutil.rmtree(dir_name)\n",
    "    os.makedirs(dir_name)\n",
    "    os.makedirs(os.path.join(dir_name, \"A\"))\n",
    "    os.makedirs(os.path.join(dir_name, \"B\"))"
   ]
  },
  {
   "cell_type": "code",
   "execution_count": 48,
   "metadata": {},
   "outputs": [],
   "source": [
    "create_directory(train_dir)\n",
    "create_directory(val_dir)\n",
    "create_directory(test_dir)"
   ]
  },
  {
   "cell_type": "code",
   "execution_count": 49,
   "metadata": {},
   "outputs": [],
   "source": [
    "def copy_images(start_index, end_index, source_dir, dest_dir):\n",
    "    for i in range(start_index, end_index):\n",
    "        shutil.copy2(os.path.join(source_dir, \"A.\" + str(i) + \".jpg\"), \n",
    "                    os.path.join(dest_dir, \"A\"))\n",
    "        shutil.copy2(os.path.join(source_dir, \"B.\" + str(i) + \".jpg\"), \n",
    "                   os.path.join(dest_dir, \"B\"))"
   ]
  },
  {
   "cell_type": "code",
   "execution_count": 50,
   "metadata": {},
   "outputs": [
    {
     "name": "stdout",
     "output_type": "stream",
     "text": [
      "6\n",
      "8\n"
     ]
    }
   ],
   "source": [
    "start_val_data_idx = int(nb_images * (1 - val_data_portion - test_data_portion))\n",
    "start_test_data_idx = int(nb_images * (1 - test_data_portion))\n",
    "print(start_val_data_idx)\n",
    "print(start_test_data_idx)"
   ]
  },
  {
   "cell_type": "code",
   "execution_count": 51,
   "metadata": {},
   "outputs": [],
   "source": [
    "copy_images(1, start_val_data_idx, data_dir, train_dir)\n",
    "copy_images(start_val_data_idx, start_test_data_idx, data_dir, val_dir)\n",
    "copy_images(start_test_data_idx, nb_images, data_dir, test_dir)"
   ]
  },
  {
   "cell_type": "code",
   "execution_count": null,
   "metadata": {},
   "outputs": [],
   "source": []
  }
 ],
 "metadata": {
  "kernelspec": {
   "display_name": "Python 3",
   "language": "python",
   "name": "python3"
  },
  "language_info": {
   "codemirror_mode": {
    "name": "ipython",
    "version": 3
   },
   "file_extension": ".py",
   "mimetype": "text/x-python",
   "name": "python",
   "nbconvert_exporter": "python",
   "pygments_lexer": "ipython3",
   "version": "3.7.3"
  }
 },
 "nbformat": 4,
 "nbformat_minor": 2
}
